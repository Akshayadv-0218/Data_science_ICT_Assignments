{
 "cells": [
  {
   "cell_type": "code",
   "execution_count": 3,
   "id": "32d802ae",
   "metadata": {},
   "outputs": [
    {
     "name": "stdout",
     "output_type": "stream",
     "text": [
      "Details of students\n",
      "enter your name: Akshay A\n",
      "enter your roll no. : 2\n",
      "enter your marks : 100\n",
      "Name: Akshay A \n",
      "Roll no.: 2 \n",
      "Marks: 100\n"
     ]
    }
   ],
   "source": [
    "print(\"Details of students\")\n",
    "Name = input(\"enter your name: \")\n",
    "Roll_no  = input(\"enter your roll no. : \")\n",
    "Mark  = input(\"enter your marks : \")\n",
    "Student_data = print(\"Name:\" , Name, \"\\n\" \"Roll no.:\", Roll_no, \"\\n\" \"Marks:\", Mark)"
   ]
  }
 ],
 "metadata": {
  "kernelspec": {
   "display_name": "Python 3 (ipykernel)",
   "language": "python",
   "name": "python3"
  },
  "language_info": {
   "codemirror_mode": {
    "name": "ipython",
    "version": 3
   },
   "file_extension": ".py",
   "mimetype": "text/x-python",
   "name": "python",
   "nbconvert_exporter": "python",
   "pygments_lexer": "ipython3",
   "version": "3.11.3"
  }
 },
 "nbformat": 4,
 "nbformat_minor": 5
}
