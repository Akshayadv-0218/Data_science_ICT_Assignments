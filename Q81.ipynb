{
 "cells": [
  {
   "cell_type": "code",
   "execution_count": 1,
   "id": "4301334f",
   "metadata": {},
   "outputs": [
    {
     "name": "stdout",
     "output_type": "stream",
     "text": [
      "*\n",
      "\n",
      "**\n",
      "\n",
      "***\n",
      "\n",
      "****\n",
      "\n"
     ]
    }
   ],
   "source": [
    "for i in range(0, 1):\n",
    "    print(\"*\",end=\"\")\n",
    "print(\"\\n\")\n",
    "\n",
    "for i in range(0, 2):\n",
    "    print(\"*\",end=\"\")\n",
    "print(\"\\n\")\n",
    "\n",
    "for i in range(0, 3):\n",
    "    print(\"*\",end=\"\")\n",
    "print(\"\\n\")\n",
    "\n",
    "for i in range(0, 4):\n",
    "    print(\"*\",end=\"\")\n",
    "print(\"\\n\")\n"
   ]
  }
 ],
 "metadata": {
  "kernelspec": {
   "display_name": "Python 3 (ipykernel)",
   "language": "python",
   "name": "python3"
  },
  "language_info": {
   "codemirror_mode": {
    "name": "ipython",
    "version": 3
   },
   "file_extension": ".py",
   "mimetype": "text/x-python",
   "name": "python",
   "nbconvert_exporter": "python",
   "pygments_lexer": "ipython3",
   "version": "3.11.3"
  }
 },
 "nbformat": 4,
 "nbformat_minor": 5
}
