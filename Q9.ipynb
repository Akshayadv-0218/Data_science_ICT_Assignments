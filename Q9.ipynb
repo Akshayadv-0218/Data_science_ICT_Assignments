{
 "cells": [
  {
   "cell_type": "code",
   "execution_count": 5,
   "id": "bc518144",
   "metadata": {},
   "outputs": [
    {
     "name": "stdout",
     "output_type": "stream",
     "text": [
      "Enter 1 num: 55\n",
      "Enter 2 num: 64\n",
      "Enter 3 num: 99\n",
      "99\n"
     ]
    }
   ],
   "source": [
    "list = []\n",
    "for i in range(1,4):\n",
    "    numbers = int(input(f\"Enter {i} num: \"))\n",
    "    list.append(numbers)\n",
    "print(max(list))"
   ]
  }
 ],
 "metadata": {
  "kernelspec": {
   "display_name": "Python 3 (ipykernel)",
   "language": "python",
   "name": "python3"
  },
  "language_info": {
   "codemirror_mode": {
    "name": "ipython",
    "version": 3
   },
   "file_extension": ".py",
   "mimetype": "text/x-python",
   "name": "python",
   "nbconvert_exporter": "python",
   "pygments_lexer": "ipython3",
   "version": "3.11.3"
  }
 },
 "nbformat": 4,
 "nbformat_minor": 5
}
