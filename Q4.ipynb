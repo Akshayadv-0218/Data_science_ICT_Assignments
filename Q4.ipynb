{
 "cells": [
  {
   "cell_type": "code",
   "execution_count": 3,
   "id": "60714b0d",
   "metadata": {},
   "outputs": [
    {
     "name": "stdout",
     "output_type": "stream",
     "text": [
      "Current number 1 Previous Number 1 sum : 1\n",
      "Current number 2 Previous Number 2 sum : 3\n",
      "Current number 3 Previous Number 3 sum : 5\n",
      "Current number 4 Previous Number 4 sum : 7\n",
      "Current number 5 Previous Number 5 sum : 9\n",
      "Current number 6 Previous Number 6 sum : 11\n",
      "Current number 7 Previous Number 7 sum : 13\n",
      "Current number 8 Previous Number 8 sum : 15\n",
      "Current number 9 Previous Number 9 sum : 17\n",
      "Current number 10 Previous Number 10 sum : 19\n"
     ]
    }
   ],
   "source": [
    "num = list(range(1,11))\n",
    "previousnum = 0\n",
    "for i in num:\n",
    "    sum = previousnum + i\n",
    "    previousnum=i\n",
    "    print(f'Current number {i} Previous Number {previousnum} sum : {sum}')\n",
    "    "
   ]
  },
  {
   "cell_type": "code",
   "execution_count": null,
   "id": "3dfdea25",
   "metadata": {},
   "outputs": [],
   "source": []
  }
 ],
 "metadata": {
  "kernelspec": {
   "display_name": "Python 3 (ipykernel)",
   "language": "python",
   "name": "python3"
  },
  "language_info": {
   "codemirror_mode": {
    "name": "ipython",
    "version": 3
   },
   "file_extension": ".py",
   "mimetype": "text/x-python",
   "name": "python",
   "nbconvert_exporter": "python",
   "pygments_lexer": "ipython3",
   "version": "3.11.3"
  }
 },
 "nbformat": 4,
 "nbformat_minor": 5
}
